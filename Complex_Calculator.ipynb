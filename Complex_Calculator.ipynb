{
 "cells": [
  {
   "cell_type": "markdown",
   "metadata": {},
   "source": [
    "# Complex Calculator\n",
    "\n",
    "This Jupyter Notebook contains a complex calculator that can perform a variety of arithmetic operations. The calculator is capable of handling addition, subtraction, multiplication, and division operations in a single expression. For example, it can evaluate expressions like `22 + 12 - 8 / 2`.\n",
    "\n",
    "## Features\n",
    "\n",
    "- **Addition**: Adds two or more numbers.\n",
    "- **Subtraction**: Subtracts one number from another.\n",
    "- **Multiplication**: Multiplies two or more numbers.\n",
    "- **Division**: Divides one number by another.\n",
    "\n",
    "## Example Usage\n",
    "\n",
    "To use the complex calculator, simply input your arithmetic expression in the provided cell and run the cell. The calculator will evaluate the expression and display the result.\n",
    "\n",
    "### Example\n",
    "\n",
    "```python\n",
    "# Example expression\n",
    "result = 22 + 12 - 8 / 2\n",
    "print(result)  # Output: 26.0\n"
   ]
  },
  {
   "cell_type": "code",
   "execution_count": null,
   "metadata": {},
   "outputs": [
    {
     "name": "stdout",
     "output_type": "stream",
     "text": [
      "Welcome To Simple Calculator \n",
      "----------------------------------\n",
      "Enter 'exit' to quit \n",
      "----------------------------------\n",
      "Expression Entered: 42 + 16 - 9 × 2 ÷ 7 \n",
      "---------------------------------- \n",
      "Result: 55.42857142857143 \n",
      "----------------------------------\n",
      "Expression Entered: 16 + 18 - 4 × 8  ÷ 7 \n",
      "---------------------------------- \n",
      "Result: 29.42857142857143 \n",
      "----------------------------------\n",
      "Expression Entered: 84 + 72 - 122 × 18 ÷ 37 \n",
      "---------------------------------- \n",
      "Result: 96.64864864864865 \n",
      "----------------------------------\n",
      "Goodbye! \n",
      "----------------------------------\n"
     ]
    }
   ],
   "source": [
    "print(\"Welcome To Simple Calculator \\n----------------------------------\")\n",
    "print(\"Enter 'exit' to quit \\n----------------------------------\")\n",
    "\n",
    "while True:\n",
    "    user_input = input(\"Enter expression: \").strip()\n",
    "    \n",
    "    if user_input.lower() == 'exit':\n",
    "        print(\"Goodbye! \\n----------------------------------\")\n",
    "        break\n",
    "    \n",
    "    expression = user_input.replace('×', '*').replace('÷', '/')\n",
    "    \n",
    "    try:\n",
    "        result = eval(expression)\n",
    "        formatted_expression = expression.replace('*', '×').replace('/', '÷')\n",
    "        print(f\"Expression Entered: {formatted_expression} \\n---------------------------------- \\nResult: {result} \\n----------------------------------\")\n",
    "    except ZeroDivisionError:\n",
    "        print(\"Error: Division by zero!\")\n",
    "    except:\n",
    "        print(\"Error: Invalid expression\")"
   ]
  },
  {
   "cell_type": "markdown",
   "metadata": {},
   "source": [
    "# Hope It Helped You :)"
   ]
  }
 ],
 "metadata": {
  "kernelspec": {
   "display_name": "Python 3",
   "language": "python",
   "name": "python3"
  },
  "language_info": {
   "codemirror_mode": {
    "name": "ipython",
    "version": 3
   },
   "file_extension": ".py",
   "mimetype": "text/x-python",
   "name": "python",
   "nbconvert_exporter": "python",
   "pygments_lexer": "ipython3",
   "version": "3.13.1"
  }
 },
 "nbformat": 4,
 "nbformat_minor": 2
}
